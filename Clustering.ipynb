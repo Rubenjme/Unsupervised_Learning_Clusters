{
 "cells": [
  {
   "cell_type": "markdown",
   "id": "f6f4e81f",
   "metadata": {},
   "source": [
    "# **<span style=\"color: #0098cd;\">Comparación de algoritmos de Clustering (K-Means, DBSCAN, Jerárquico)</span>**"
   ]
  },
  {
   "cell_type": "markdown",
   "id": "b3c52906",
   "metadata": {},
   "source": [
    "## **Objetivos**"
   ]
  },
  {
   "cell_type": "markdown",
   "id": "5e626024",
   "metadata": {},
   "source": [
    "## **Descripción**\n",
    "\n",
    "El conjunto de datos con el que voy a trabajar se encuentra en: https://www.kaggle.com/datasets/umerrtx/machine-failure-prediction-using-sensor-data\n",
    "\n",
    "Este conjunto de datos contiene datos de sensores recopilados de varias máquinas, con el objetivo de predecir fallos de las máquinas con antelación. Incluye una variedad de lecturas de sensores, así como las fallas de la máquina registradas.\n",
    "\n",
    "Este archivo contiene 944 mediciones de sensores de diferentes máquinas, también contiene una etiqueta de si hay fallo o no.\n",
    "\n",
    "Notas:\n",
    "1. footfall: The number of people or objects passing by the machine.\n",
    "2. tempMode: The temperature mode or setting of the machine.\n",
    "3. AQ: Air quality index near the machine.\n",
    "4. USS: Ultrasonic sensor data, indicating proximity measurements.\n",
    "5. CS: Current sensor readings, indicating the electrical current usage of the machine.\n",
    "6. VOC: Volatile organic compounds level detected near the machine.\n",
    "7. RP: Rotational position or RPM (revolutions per minute) of the machine parts.\n",
    "8. IP: Input pressure to the machine.\n",
    "9. Temperature: The operating temperature of the machine.\n",
    "10. fail: Binary indicator of machine failure (1 for failure, 0 for no failure)."
   ]
  },
  {
   "cell_type": "markdown",
   "id": "186db476",
   "metadata": {},
   "source": [
    "## **Carga del dataset y análisis exploratorio**"
   ]
  },
  {
   "cell_type": "markdown",
   "id": "98b0b3e1",
   "metadata": {},
   "source": [
    "#### Carga del dataset"
   ]
  },
  {
   "cell_type": "code",
   "execution_count": 1,
   "id": "cba58ba1",
   "metadata": {},
   "outputs": [],
   "source": [
    "import numpy as np\n",
    "import pandas as pd\n",
    "from matplotlib import pyplot as plt\n",
    "import seaborn as sns\n",
    "\n",
    "\n",
    "df = pd.read_csv('data.csv', sep=',') "
   ]
  },
  {
   "cell_type": "markdown",
   "id": "ec542c4f-ea0b-43d5-866a-ad40fc40a299",
   "metadata": {},
   "source": [
    "#### Número de instancias del dataset"
   ]
  },
  {
   "cell_type": "markdown",
   "id": "c661a79f-b3ad-4b49-be1f-d97ba5d0c38c",
   "metadata": {},
   "source": [
    "#### Tipo de datos predominante en el dataset"
   ]
  },
  {
   "cell_type": "markdown",
   "id": "c36e0e79-7729-45a0-ae8f-5cd00b094779",
   "metadata": {},
   "source": [
    "#### Existencia de variables continuas y categóricas"
   ]
  },
  {
   "cell_type": "markdown",
   "id": "bd7e5963-eec5-487a-bd56-cafd88c02491",
   "metadata": {},
   "source": [
    "#### Valores mínimo y máximo de la variable 'RP'"
   ]
  },
  {
   "cell_type": "markdown",
   "id": "b5aab5c3-25d1-434c-a53f-99b9db416091",
   "metadata": {},
   "source": [
    "#### Para los algoritmos de clustering el dataset no puede tener instancias con datos faltantes. ¿Tiene este dataset datos faltantes?"
   ]
  },
  {
   "cell_type": "markdown",
   "id": "b54f9c8f",
   "metadata": {},
   "source": [
    "#### Eliminación de la variable fail"
   ]
  },
  {
   "cell_type": "markdown",
   "id": "4bd040c1-2bf7-45be-bb01-e8449d8ffad0",
   "metadata": {},
   "source": [
    "## **<span style=\"color: #0098cd;\">Algoritmo K-Means</span>**"
   ]
  },
  {
   "cell_type": "markdown",
   "id": "c4e443c9-032b-40af-89b3-d19bee658507",
   "metadata": {},
   "source": [
    "## **<span style=\"color: #0098cd;\">Algoritmo DBSCAN</span>**"
   ]
  },
  {
   "cell_type": "markdown",
   "id": "831ed7b5-7bdd-4a6c-bbd2-8099d6d5c59e",
   "metadata": {},
   "source": [
    "## **<span style=\"color: #0098cd;\">Algoritmo Clustering Jerárquico</span>**"
   ]
  },
  {
   "cell_type": "markdown",
   "id": "30fc8ba0-94c8-47d5-81e8-094d3f2f5ae8",
   "metadata": {},
   "source": [
    "## **Comparativa de algoritmos**"
   ]
  }
 ],
 "metadata": {
  "kernelspec": {
   "display_name": "Python 3",
   "language": "python",
   "name": "python3"
  },
  "language_info": {
   "codemirror_mode": {
    "name": "ipython",
    "version": 3
   },
   "file_extension": ".py",
   "mimetype": "text/x-python",
   "name": "python",
   "nbconvert_exporter": "python",
   "pygments_lexer": "ipython3",
   "version": "3.11.9"
  }
 },
 "nbformat": 4,
 "nbformat_minor": 5
}
